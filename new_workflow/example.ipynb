{
 "cells": [
  {
   "cell_type": "code",
   "execution_count": 1,
   "id": "7f6ce982-d3a6-42f9-88bb-ba59fe1af079",
   "metadata": {},
   "outputs": [],
   "source": [
    "import numpy as np\n",
    "from dft_data import *\n",
    "from Pt_data import *\n",
    "from adsorbate import Adsorbate"
   ]
  },
  {
   "cell_type": "code",
   "execution_count": 2,
   "id": "0fabfd7c-72b7-4f66-af40-b6e8e252edd6",
   "metadata": {},
   "outputs": [],
   "source": [
    "OXCXCH2 = Adsorbate(OXCXCH2,Pt_data)"
   ]
  },
  {
   "cell_type": "code",
   "execution_count": 3,
   "id": "4073d258-00a6-4f55-a2b8-17da385bdb95",
   "metadata": {},
   "outputs": [],
   "source": [
    "q_trans, S_trans, dH_trans, Cp_trans = OXCXCH2.get_2D_translational_thermo()"
   ]
  },
  {
   "cell_type": "code",
   "execution_count": 4,
   "id": "048714f6-10c0-4705-8863-10387573a37a",
   "metadata": {},
   "outputs": [],
   "source": [
    "q_trans, S_trans, dH_trans, Cp_trans = OXCXCH2.get_vibrational_thermo()"
   ]
  },
  {
   "cell_type": "code",
   "execution_count": 5,
   "id": "38c85b60-e3c0-4d88-bc3a-178f560194da",
   "metadata": {},
   "outputs": [
    {
     "ename": "NameError",
     "evalue": "name 'params' is not defined",
     "output_type": "error",
     "traceback": [
      "\u001b[31m---------------------------------------------------------------------------\u001b[39m",
      "\u001b[31mNameError\u001b[39m                                 Traceback (most recent call last)",
      "\u001b[36mCell\u001b[39m\u001b[36m \u001b[39m\u001b[32mIn[5]\u001b[39m\u001b[32m, line 2\u001b[39m\n\u001b[32m      1\u001b[39m \u001b[38;5;66;03m## Not working yet, but this is what I'm envisioning:\u001b[39;00m\n\u001b[32m----> \u001b[39m\u001b[32m2\u001b[39m NASA7_OXCXCH2 = \u001b[43mOXCXCH2\u001b[49m\u001b[43m.\u001b[49m\u001b[43mfit_NASA7_polynomial\u001b[49m\u001b[43m(\u001b[49m\u001b[43m)\u001b[49m\n\u001b[32m      3\u001b[39m OXCXCH2.plot_NASA_fit()\n\u001b[32m      4\u001b[39m RMG_string = OXCXCH2. get_RMG_thermo_database_entry\n",
      "\u001b[36mFile \u001b[39m\u001b[32m~/Projects/development/thermo_kinetics_scripts/new_workflow/adsorbate.py:170\u001b[39m, in \u001b[36mAdsorbate.fit_NASA7_polynomial\u001b[39m\u001b[34m(self)\u001b[39m\n\u001b[32m    168\u001b[39m \u001b[38;5;28;01mdef\u001b[39;00m\u001b[38;5;250m \u001b[39m\u001b[34mfit_NASA7_polynomial\u001b[39m(\u001b[38;5;28mself\u001b[39m):\n\u001b[32m    169\u001b[39m \u001b[38;5;250m    \u001b[39m\u001b[33;03m'''write me'''\u001b[39;00m\n\u001b[32m--> \u001b[39m\u001b[32m170\u001b[39m     \u001b[38;5;28;01mreturn\u001b[39;00m \u001b[43mparams\u001b[49m\n",
      "\u001b[31mNameError\u001b[39m: name 'params' is not defined"
     ]
    }
   ],
   "source": [
    "## Not working yet, but this is what I'm envisioning:\n",
    "NASA7_OXCXCH2 = OXCXCH2.fit_NASA7_polynomial()\n",
    "OXCXCH2.plot_NASA_fit()\n",
    "RMG_string = OXCXCH2. get_RMG_thermo_database_entry"
   ]
  },
  {
   "cell_type": "code",
   "execution_count": null,
   "id": "b631cdf3-2ad5-4483-aba8-05511d6c8a79",
   "metadata": {},
   "outputs": [],
   "source": []
  }
 ],
 "metadata": {
  "kernelspec": {
   "display_name": "Python 3 (ipykernel)",
   "language": "python",
   "name": "python3"
  },
  "language_info": {
   "codemirror_mode": {
    "name": "ipython",
    "version": 3
   },
   "file_extension": ".py",
   "mimetype": "text/x-python",
   "name": "python",
   "nbconvert_exporter": "python",
   "pygments_lexer": "ipython3",
   "version": "3.13.2"
  }
 },
 "nbformat": 4,
 "nbformat_minor": 5
}
