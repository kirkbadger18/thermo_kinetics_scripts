{
 "cells": [
  {
   "cell_type": "code",
   "execution_count": 1,
   "id": "7f6ce982-d3a6-42f9-88bb-ba59fe1af079",
   "metadata": {},
   "outputs": [],
   "source": [
    "import numpy as np\n",
    "from dft_data import *\n",
    "from Pt_data import *\n",
    "from adsorbate import Adsorbate"
   ]
  },
  {
   "cell_type": "code",
   "execution_count": 2,
   "id": "0fabfd7c-72b7-4f66-af40-b6e8e252edd6",
   "metadata": {},
   "outputs": [],
   "source": [
    "OXCXCH2 = Adsorbate(OXCXCH2,Pt_data)"
   ]
  },
  {
   "cell_type": "code",
   "execution_count": null,
   "id": "38c85b60-e3c0-4d88-bc3a-178f560194da",
   "metadata": {},
   "outputs": [],
   "source": [
    "## Not working yet, but this is what I'm envisioning:\n",
    "NASA7_OXCXCH2 = OXCXCH2.fit_NASA7_polynomial()\n",
    "OXCXCH2.plot_NASA_fit()\n",
    "RMG_string = OXCXCH2. get_RMG_thermo_database_entry"
   ]
  }
 ],
 "metadata": {
  "kernelspec": {
   "display_name": "Python 3 (ipykernel)",
   "language": "python",
   "name": "python3"
  },
  "language_info": {
   "codemirror_mode": {
    "name": "ipython",
    "version": 3
   },
   "file_extension": ".py",
   "mimetype": "text/x-python",
   "name": "python",
   "nbconvert_exporter": "python",
   "pygments_lexer": "ipython3",
   "version": "3.13.2"
  }
 },
 "nbformat": 4,
 "nbformat_minor": 5
}
