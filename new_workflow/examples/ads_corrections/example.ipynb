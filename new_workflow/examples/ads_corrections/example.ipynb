{
 "cells": [
  {
   "cell_type": "code",
   "execution_count": 1,
   "id": "0560a9f9",
   "metadata": {},
   "outputs": [],
   "source": [
    "import sys\n",
    "sys.path.append('../../')\n",
    "from data.dft_data import gas_list, adsorbate_list\n",
    "from data.reference_data import reference_dict\n",
    "from data.slab_data import slab_dict\n",
    "from group import Group"
   ]
  },
  {
   "cell_type": "code",
   "execution_count": 2,
   "id": "f2326cfe",
   "metadata": {},
   "outputs": [
    {
     "name": "stdout",
     "output_type": "stream",
     "text": [
      "[2]\n",
      "[1]\n",
      "(array([ 1.58467602e+00,  2.13875495e-02, -2.66801495e-05,  1.80859866e-08,\n",
      "       -4.95467903e-12, -1.05652825e+04, -8.56649401e+00]), array([ 9.40655162e+00, -5.39964892e-03,  9.49095184e-06, -4.94450613e-09,\n",
      "        8.70035233e-13, -1.24579123e+04, -4.76757964e+01]))\n",
      "(array([ 2.36068451e+00,  1.41657302e-02, -1.89200190e-05,  1.38011266e-08,\n",
      "       -4.17869385e-12, -3.13906840e+03, -5.69574266e+00]), array([ 7.21381788e+00, -2.56958044e-03,  4.70490658e-06, -2.59884803e-09,\n",
      "        4.78532504e-13, -4.33097324e+03, -2.99948008e+01]))\n"
     ]
    }
   ],
   "source": [
    "group = Group(\n",
    "    adsorbate_list,\n",
    "    gas_list,\n",
    "    reference_dict,\n",
    "    slab_dict,\n",
    ")\n",
    "h, s, cp = group.get_group_correction()\n",
    "#print(h, s, cp)"
   ]
  }
 ],
 "metadata": {
  "kernelspec": {
   "display_name": "kinetics",
   "language": "python",
   "name": "python3"
  },
  "language_info": {
   "codemirror_mode": {
    "name": "ipython",
    "version": 3
   },
   "file_extension": ".py",
   "mimetype": "text/x-python",
   "name": "python",
   "nbconvert_exporter": "python",
   "pygments_lexer": "ipython3",
   "version": "3.13.2"
  }
 },
 "nbformat": 4,
 "nbformat_minor": 5
}
